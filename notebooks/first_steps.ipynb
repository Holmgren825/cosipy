{
 "cells": [
  {
   "cell_type": "markdown",
   "metadata": {},
   "source": [
    "# First steps with COSIPY\n",
    "\n",
    "This is the first tutorial to get you started with using COSIPY. In it we will go through how to\n",
    "\n",
    "* Setup a simulation for a single gridpoint\n",
    "* Run the simulation and save the results\n",
    "* Do simple visualisations of the results using matplotlib\n",
    "\n",
    "First we have to import the python libraries we are going to use"
   ]
  },
  {
   "cell_type": "code",
   "execution_count": null,
   "metadata": {},
   "outputs": [],
   "source": [
    "# Have to change the cwd for the ipython session, otherwise COSIPY\n",
    "# will look for things in the wrong places.\n",
    "import os\n",
    "# This is not really a good method, if cell is re run we end up in the\n",
    "# wrong directory.\n",
    "os.chdir('./../')"
   ]
  },
  {
   "cell_type": "code",
   "execution_count": null,
   "metadata": {},
   "outputs": [],
   "source": [
    "from cosipy.cpkernel.cosipy_core import cosipy_core\n",
    "from cosipy.cpkernel.io import IOClass\n",
    "# We need io for changing config parameters/constants.\n",
    "import cosipy.cpkernel.io as io\n",
    "import numpy as np\n",
    "from matplotlib import pyplot as plt"
   ]
  },
  {
   "cell_type": "code",
   "execution_count": null,
   "metadata": {},
   "outputs": [],
   "source": [
    "# Have to tell matplotlib to plot inline\n",
    "%matplotlib inline"
   ]
  },
  {
   "cell_type": "markdown",
   "metadata": {},
   "source": [
    "# Create input/output files\n",
    "First we have to creat input/ouput files for the simulation. This is handled by the `IOClass` of COSIPY which creates an xarray dataset containing information about the spatial and temporal coordinate, the data varialbes and the attributes used in the simulation. \n",
    "\n",
    "Before we initialize these files, it is interesting to have a look at the varialbes and constants used by the `io` module and the rest of the model, they  are contained in a dictionary called `NAMELIST` which is available from the `cfg` module:"
   ]
  },
  {
   "cell_type": "code",
   "execution_count": null,
   "metadata": {},
   "outputs": [],
   "source": [
    "import cfg\n",
    "NAMELIST = cfg.NAMELIST\n",
    "NAMELIST"
   ]
  },
  {
   "cell_type": "markdown",
   "metadata": {},
   "source": [
    "These are loaded from the files `config.cfg` and `constants.cfg` located in the root directory of cosipy. We can change any of these variables to customise our simulation. This can by done changing the value of a variable in the previously mentioned files, however for this to take affect we have to reload the `cfg` moduel. \n",
    "\n",
    "A much simpler way is to change it directly in the `NAMELIST` before we begin initializing our run, directly in this session. For instance we can change the variable `time_end` to adjust the temporal extent of our simulation:"
   ]
  },
  {
   "cell_type": "code",
   "execution_count": null,
   "metadata": {},
   "outputs": [],
   "source": [
    "# First take a look at the default value\n",
    "NAMELIST['time_end']"
   ]
  },
  {
   "cell_type": "code",
   "execution_count": null,
   "metadata": {},
   "outputs": [],
   "source": [
    "# Then we change it\n",
    "NAMELIST['time_end'] = '2009-01-08T00:00'"
   ]
  },
  {
   "cell_type": "markdown",
   "metadata": {},
   "source": [
    "We are now ready to initialise the `IOClass`, we have to pass the `NAMELIST` to it:"
   ]
  },
  {
   "cell_type": "code",
   "execution_count": null,
   "metadata": {},
   "outputs": [],
   "source": [
    "# Initialize the IOClass\n",
    "IO = IOClass(NAMELIST)"
   ]
  },
  {
   "cell_type": "markdown",
   "metadata": {},
   "source": [
    "With the `IOClass` ready, we can initialise the data files needed for our run:"
   ]
  },
  {
   "cell_type": "code",
   "execution_count": null,
   "metadata": {},
   "outputs": [],
   "source": [
    "# Create files for the data, results and restart.\n",
    "DATA = IO.create_data_file()\n",
    "RESULTS = IO.create_result_file()\n",
    "RESTART = IO.create_restart_file()"
   ]
  },
  {
   "cell_type": "markdown",
   "metadata": {},
   "source": [
    "The output above gives us some helpful insight about the data. We can see that the data covers the period 2009-01-01 to 2009-01-31, and that we have specified the integration time to 2009-01-01 to 2009-01-08 by changing `io.time_end`. We also see that we have one gridpoint which we will perform the calculation on.\n",
    "\n",
    "It also shows some quality control on the input data, more on this later.\n",
    "\n",
    "Note that we don't have to change `NAMELIST['time_end']` as we did above - if we don't, the simulation will run using the default parameters from `config.cfg` and `constants.cfg`.\n",
    "\n",
    "Also note that the `IOClass` along with the files DATA, RESULTS and RESTART has to be re-initliazed after a variable has been changed in `NAMELIST`."
   ]
  },
  {
   "cell_type": "markdown",
   "metadata": {},
   "source": [
    "# Running COSIPY\n",
    "Now we are ready to do a simple point simulation with COSIPY. This example is run on the Zhadang glacier. We can change this by changing the `input_netcdf` in `NAMELIST` to point at the files we want to use. In these tutorials data for Zhadang and Hintereisferner are included.\n",
    "\n",
    "For this run, we are not going to evaluate the data using ablation stakes, hence we set the variables"
   ]
  },
  {
   "cell_type": "code",
   "execution_count": null,
   "metadata": {},
   "outputs": [],
   "source": [
    "stakes_loc = None\n",
    "df_stakes_data = None\n",
    "stake_names = None"
   ]
  },
  {
   "cell_type": "markdown",
   "metadata": {},
   "source": [
    "We can then run the model by simply calling the `cosipy_core` function and passing the `NAMELIST` to it:\n",
    "\n",
    "*Note that this can take some time*"
   ]
  },
  {
   "cell_type": "code",
   "execution_count": null,
   "metadata": {},
   "outputs": [],
   "source": [
    "# We pass the index of our point to cosipy_core, since python is zero\n",
    "# indexed we have to subtract one.\n",
    "x = 0\n",
    "y = 0\n",
    "model = cosipy_core(DATA.isel(lat=y, lon=x), y, x, NAMELIST, stake_names=stake_names,\n",
    "                    stake_data=df_stakes_data)\n",
    "# Create numpy arrays which aggregates all local results\n",
    "IO.create_global_result_arrays()\n",
    "\n",
    "\n",
    "# Here we are unpacking the results from the model run, getting ready to save\n",
    "# it to our RESULTS dataframe.\n",
    "indY,indX,local_restart,RAIN,SNOWFALL,LWin,LWout,H,LE,B,QRR,MB,surfMB,Q,SNOWHEIGHT,TOTALHEIGHT,TS,ALBEDO,NLAYERS, \\\n",
    "                ME,intMB,EVAPORATION,SUBLIMATION,CONDENSATION,DEPOSITION,REFREEZE,subM,Z0,surfM,MOL, \\\n",
    "                LAYER_HEIGHT,LAYER_RHO,LAYER_T,LAYER_LWC,LAYER_CC,LAYER_POROSITY,LAYER_ICE_FRACTION, \\\n",
    "                LAYER_IRREDUCIBLE_WATER,LAYER_REFREEZE,stake_names,stat,df_eval = model\n",
    "\n",
    "IO.copy_local_to_global(indY,indX,RAIN,SNOWFALL,LWin,LWout,H,LE,B,QRR,MB,surfMB,Q,SNOWHEIGHT,TOTALHEIGHT,TS,ALBEDO,NLAYERS, \\\n",
    "                ME,intMB,EVAPORATION,SUBLIMATION,CONDENSATION,DEPOSITION,REFREEZE,subM,Z0,surfM,MOL,LAYER_HEIGHT,LAYER_RHO, \\\n",
    "                LAYER_T,LAYER_LWC,LAYER_CC,LAYER_POROSITY,LAYER_ICE_FRACTION,LAYER_IRREDUCIBLE_WATER,LAYER_REFREEZE)\n",
    "\n",
    "# Write results to file\n",
    "IO.write_results_to_file()\n"
   ]
  },
  {
   "cell_type": "markdown",
   "metadata": {},
   "source": [
    "Thats it! Now we are ready to inspect the results."
   ]
  },
  {
   "cell_type": "markdown",
   "metadata": {},
   "source": [
    "# Visualizing the results\n",
    "To get a quick overview of the variables in our dataframe, we can simply call it "
   ]
  },
  {
   "cell_type": "code",
   "execution_count": null,
   "metadata": {},
   "outputs": [],
   "source": [
    "RESULTS"
   ]
  },
  {
   "cell_type": "markdown",
   "metadata": {},
   "source": [
    "We can see that our data is stored in an xarray dataset - a very handy format for interacting with netcdf files in python. To check which data variables are available, one can simply click on the label \"Data Variables\", which will expand a list of the variables.\n",
    "\n",
    "We can quckly plot a variable, the surface mass balance (`surfMB`) for instance:"
   ]
  },
  {
   "cell_type": "code",
   "execution_count": null,
   "metadata": {},
   "outputs": [],
   "source": [
    "RESULTS.surfMB.plot();"
   ]
  },
  {
   "cell_type": "markdown",
   "metadata": {},
   "source": [
    "As you can see, the use of xarray-datasets for storing the data makes it possible to levarage the built in plotting functionality of xarray and quickly visualize the output.\n",
    "\n",
    "For a slightly more advanced plot, one can still make use of matplotlib"
   ]
  },
  {
   "cell_type": "code",
   "execution_count": null,
   "metadata": {},
   "outputs": [],
   "source": [
    "fig, (ax1, ax2) = plt.subplots(figsize=(7,8), nrows=2, sharex=True,\n",
    "                               gridspec_kw = {'height_ratios':[2,1]})\n",
    "RESULTS.surfMB.plot(ax=ax1)\n",
    "RESULTS.SNOWFALL.plot(ax=ax2, color='C1')\n",
    "# Easier to make use of xarray plotting capabilites and then remove unwanted lables.\n",
    "ax1.set_xlabel('')\n",
    "ax2.set_title('')\n",
    "# Get the time span of our dataset to use for title\n",
    "time_span = RESULTS.time[0].values, RESULTS.time[-1].values\n",
    "time_span = np.datetime_as_string(time_span, unit='m')\n",
    "# Set the title of the plot.\n",
    "ax1.set_title(f'Surface mass balance and Snowfall at Zhadang \\n between {time_span[0]} and' +\\\n",
    "              f' {time_span[1]}')\n",
    "# Fixes the spacing between parts of the plots.\n",
    "fig.tight_layout()"
   ]
  },
  {
   "cell_type": "markdown",
   "metadata": {},
   "source": [
    "As we can see in the figures above, the positive surface mass balances during the 6th or January can be explained, as one might expect, by snowfall."
   ]
  },
  {
   "cell_type": "markdown",
   "metadata": {},
   "source": [
    "## Next steps\n",
    "[Back to overview](welcome.ipynb)\n",
    "\n",
    "[Sensitivty studies with COSIPY](sensitivty_study.ipynb)"
   ]
  }
 ],
 "metadata": {
  "kernelspec": {
   "display_name": "Python 3",
   "language": "python",
   "name": "python3"
  },
  "language_info": {
   "codemirror_mode": {
    "name": "ipython",
    "version": 3
   },
   "file_extension": ".py",
   "mimetype": "text/x-python",
   "name": "python",
   "nbconvert_exporter": "python",
   "pygments_lexer": "ipython3",
   "version": "3.8.3"
  }
 },
 "nbformat": 4,
 "nbformat_minor": 4
}
